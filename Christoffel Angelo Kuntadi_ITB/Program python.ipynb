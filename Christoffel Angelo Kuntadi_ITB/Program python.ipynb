{
  "nbformat": 4,
  "nbformat_minor": 0,
  "metadata": {
    "colab": {
      "name": "Untitled29.ipynb",
      "provenance": []
    },
    "kernelspec": {
      "name": "python3",
      "display_name": "Python 3"
    },
    "language_info": {
      "name": "python"
    }
  },
  "cells": [
    {
      "cell_type": "code",
      "metadata": {
        "colab": {
          "base_uri": "https://localhost:8080/"
        },
        "id": "SVRNWDXrDHWP",
        "outputId": "f2e7664f-48a2-46fc-dc08-a23586210043"
      },
      "source": [
        "nama = str(input   (\"Nama              : \"))\n",
        "jurusan = str(input(\"Jurusan           : \"))\n",
        "alasan = str(input (\"Alasan masuk GDSC : \"))"
      ],
      "execution_count": 1,
      "outputs": [
        {
          "name": "stdout",
          "output_type": "stream",
          "text": [
            "Nama              : Christoffel Angelo Kuntadi\n",
            "Jurusan           : Aktuaria\n",
            "Alasan masuk GDSC : Karena saya tertarik mempelajari data science , meningkatan kemampuan saya dalam programming, serta mencari relasi baru\n"
          ]
        }
      ]
    }
  ]
}