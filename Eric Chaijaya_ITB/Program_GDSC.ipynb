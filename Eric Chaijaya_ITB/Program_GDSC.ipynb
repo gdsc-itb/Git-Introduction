{
  "nbformat": 4,
  "nbformat_minor": 0,
  "metadata": {
    "colab": {
      "name": "Untitled8.ipynb",
      "provenance": []
    },
    "kernelspec": {
      "name": "python3",
      "display_name": "Python 3"
    },
    "language_info": {
      "name": "python"
    }
  },
  "cells": [
    {
      "cell_type": "code",
      "metadata": {
        "colab": {
          "base_uri": "https://localhost:8080/"
        },
        "id": "cfepH2hsDW8U",
        "outputId": "5c0cc1da-a89c-46f8-9bc6-87d72a2fed86"
      },
      "source": [
        "print(\"Nama : Eric Chaijaya\")\n",
        "print(\"Jurusan : Aktuaria\")\n",
        "print(\"Alasan ingin masuk GDSC : Karena saya ingin mengembangkan pemahaman pemrograman terutama untuk data science dan saya penasaran tentang pengembangan dari produk Google.\")"
      ],
      "execution_count": 2,
      "outputs": [
        {
          "output_type": "stream",
          "name": "stdout",
          "text": [
            "Nama : Eric Chaijaya\n",
            "Jurusan : Aktuaria\n",
            "Alasan ingin masuk GDSC : Karena saya ingin mengembangkan pemahaman pemrograman terutama untuk data science dan saya penasaran tentang pengembangan dari produk Google.\n"
          ]
        }
      ]
    }
  ]
}