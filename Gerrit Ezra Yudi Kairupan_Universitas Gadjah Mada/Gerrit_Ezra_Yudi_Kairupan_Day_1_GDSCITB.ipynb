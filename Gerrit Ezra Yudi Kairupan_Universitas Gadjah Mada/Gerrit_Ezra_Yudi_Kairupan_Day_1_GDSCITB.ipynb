{
  "nbformat": 4,
  "nbformat_minor": 0,
  "metadata": {
    "colab": {
      "name": "Gerrit Ezra Yudi Kairupan_Day-1_GDSCITB",
      "provenance": []
    },
    "kernelspec": {
      "name": "python3",
      "display_name": "Python 3"
    },
    "language_info": {
      "name": "python"
    }
  },
  "cells": [
    {
      "cell_type": "markdown",
      "metadata": {
        "id": "Z9N01zx-mzkX"
      },
      "source": [
        "# Tugas Day-1\n",
        "Nama : Gerrit Ezra Yudi Kairupan\n",
        "\n",
        "Prodi: *Information Engineering*, Fakultas Teknik, Universitas Gadjah Mada"
      ]
    },
    {
      "cell_type": "code",
      "metadata": {
        "colab": {
          "base_uri": "https://localhost:8080/"
        },
        "id": "gmDDDf2ckJn0",
        "outputId": "cc994fa8-3af2-4104-c9aa-ea926cb683b6"
      },
      "source": [
        "# Inisiasi Variabel\n",
        "nama = \"Gerrit Ezra Yudi Kairupan\"\n",
        "jurusan = \"Information Engineering, Faculty of Engineering, Gadjah Mada University\"\n",
        "alasan = \"Alasan diurai sebagai berikut: \\n 1. Ingin memperluas relasi dalam bidang IT \\n 2. Ingin memperdalam ilmu dan kemampuan di bidang teknologi khususnya dalam bidang Data dan Software \\n 3. Membangun pengalaman dan experiance terkait pengembangan teknologi \\n 4. Ingin memiliki organisasi yang linear dengan kemampuan\"\n",
        "\n",
        "# Program\n",
        "print (\"Nama =\", nama)\n",
        "print (\"Jurusan = \", jurusan)\n",
        "print (\"Alasan = \", alasan)\n"
      ],
      "execution_count": 8,
      "outputs": [
        {
          "output_type": "stream",
          "name": "stdout",
          "text": [
            "Nama = Gerrit Ezra Yudi Kairupan\n",
            "Jurusan =  Information Engineering, Faculty of Engineering, Gadjah Mada University\n",
            "Alasan =  Alasan diurai sebagai berikut: \n",
            " 1. Ingin memperluas relasi dalam bidang IT \n",
            " 2. Ingin memperdalam ilmu dan kemampuan di bidang teknologi khususnya dalam bidang Data dan Software \n",
            " 3. Membangun pengalaman dan experiance terkait pengembangan teknologi \n",
            " 4. Ingin memiliki organisasi yang linear dengan kemampuan\n"
          ]
        }
      ]
    }
  ]
}